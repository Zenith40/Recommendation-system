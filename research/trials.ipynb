{
 "cells": [
  {
   "cell_type": "code",
   "execution_count": 164,
   "id": "253d3df7",
   "metadata": {},
   "outputs": [],
   "source": [
    "import pandas as pd\n",
    "import numpy as np\n",
    "import os"
   ]
  },
  {
   "cell_type": "code",
   "execution_count": 165,
   "id": "66bcd730",
   "metadata": {},
   "outputs": [
    {
     "data": {
      "text/plain": [
       "'C:\\\\Users\\\\satka\\\\OneDrive\\\\Desktop\\\\recommendation-system\\\\data'"
      ]
     },
     "execution_count": 165,
     "metadata": {},
     "output_type": "execute_result"
    }
   ],
   "source": [
    "%pwd"
   ]
  },
  {
   "cell_type": "code",
   "execution_count": 166,
   "id": "b4ed7319",
   "metadata": {},
   "outputs": [],
   "source": [
    "os.chdir(\"C:/Users/satka/OneDrive/Desktop/recommendation-system/data\")"
   ]
  },
  {
   "cell_type": "code",
   "execution_count": 167,
   "id": "0c897fa0",
   "metadata": {},
   "outputs": [],
   "source": [
    "df = pd.read_csv(\"anime_data_24.csv\")\n",
    "df_links = pd.read_csv('anime_links.csv')"
   ]
  },
  {
   "cell_type": "code",
   "execution_count": 168,
   "id": "ec96f943",
   "metadata": {},
   "outputs": [],
   "source": [
    "anime = df.merge(df_links,on='name')"
   ]
  },
  {
   "cell_type": "code",
   "execution_count": 169,
   "id": "6500fbb8",
   "metadata": {},
   "outputs": [],
   "source": [
    "anime = anime[['name','sypnopsis','image','type','episodes','status','studios','source','genres','demographic','links']]"
   ]
  },
  {
   "cell_type": "code",
   "execution_count": 170,
   "id": "e0f37141",
   "metadata": {},
   "outputs": [],
   "source": [
    "anime = anime.iloc[0:8000]"
   ]
  },
  {
   "cell_type": "code",
   "execution_count": 171,
   "id": "196a74c3",
   "metadata": {},
   "outputs": [
    {
     "data": {
      "text/plain": [
       "Index(['name', 'sypnopsis', 'image', 'type', 'episodes', 'status', 'studios',\n",
       "       'source', 'genres', 'demographic', 'links'],\n",
       "      dtype='object')"
      ]
     },
     "execution_count": 171,
     "metadata": {},
     "output_type": "execute_result"
    }
   ],
   "source": [
    "anime.columns"
   ]
  },
  {
   "cell_type": "code",
   "execution_count": 172,
   "id": "dc7662fd",
   "metadata": {},
   "outputs": [],
   "source": [
    "anime.dropna(inplace=True)"
   ]
  },
  {
   "cell_type": "code",
   "execution_count": 173,
   "id": "edc035da",
   "metadata": {},
   "outputs": [],
   "source": [
    "anime['sypnopsis_length'] = [len(i) for i in anime.sypnopsis]"
   ]
  },
  {
   "cell_type": "code",
   "execution_count": 174,
   "id": "99183feb",
   "metadata": {},
   "outputs": [],
   "source": [
    "anime = anime[anime['sypnopsis_length'] > 300]"
   ]
  },
  {
   "cell_type": "code",
   "execution_count": null,
   "id": "c660b30b",
   "metadata": {},
   "outputs": [],
   "source": []
  },
  {
   "cell_type": "code",
   "execution_count": 175,
   "id": "a932d424",
   "metadata": {},
   "outputs": [],
   "source": [
    "anime['tags'] = anime['sypnopsis']+\" \" + anime['type']+\" \" + anime['episodes']+\" \" + anime['status'] +\" \"+ anime['studios'] +\" \"+ anime['source']+\" \" + anime['genres']+\" \" + anime['demographic']"
   ]
  },
  {
   "cell_type": "code",
   "execution_count": 176,
   "id": "f76e7a39",
   "metadata": {},
   "outputs": [],
   "source": [
    "anime_1 = anime.copy()\n",
    "anime_1 = anime_1[['image','name','tags','links']]"
   ]
  },
  {
   "cell_type": "code",
   "execution_count": 177,
   "id": "8ab84681",
   "metadata": {},
   "outputs": [],
   "source": [
    "anime_1 = anime_1.reset_index(drop=True)"
   ]
  },
  {
   "cell_type": "code",
   "execution_count": 178,
   "id": "8d4ef9fa",
   "metadata": {},
   "outputs": [],
   "source": [
    "anime_1 = anime_1.rename({'name':'title'},axis=1)"
   ]
  },
  {
   "cell_type": "code",
   "execution_count": 179,
   "id": "6f0c590b",
   "metadata": {},
   "outputs": [],
   "source": [
    "anime_1.tags = anime_1.tags.map(lambda x: x.replace('\\n',\" \"))"
   ]
  },
  {
   "cell_type": "code",
   "execution_count": 180,
   "id": "521b43bf",
   "metadata": {},
   "outputs": [],
   "source": [
    "from sklearn.feature_extraction.text import CountVectorizer\n",
    "\n",
    "cv = CountVectorizer(max_features=5000,stop_words='english')"
   ]
  },
  {
   "cell_type": "code",
   "execution_count": 181,
   "id": "bb0e6617",
   "metadata": {},
   "outputs": [],
   "source": [
    "from nltk.stem.porter import PorterStemmer\n",
    "ps = PorterStemmer()"
   ]
  },
  {
   "cell_type": "code",
   "execution_count": 182,
   "id": "8c101543",
   "metadata": {},
   "outputs": [],
   "source": [
    "def stem(text):\n",
    "    y = []\n",
    "    \n",
    "    for i in text.split():\n",
    "        y.append(ps.stem(i))\n",
    "    \n",
    "    return \" \".join(y)"
   ]
  },
  {
   "cell_type": "code",
   "execution_count": 183,
   "id": "01e8e16b",
   "metadata": {},
   "outputs": [],
   "source": [
    "anime_1['tags'] = anime_1['tags'].apply(stem)"
   ]
  },
  {
   "cell_type": "code",
   "execution_count": 184,
   "id": "749791fa",
   "metadata": {},
   "outputs": [],
   "source": [
    "vectors = cv.fit_transform(anime_1['tags']).toarray()"
   ]
  },
  {
   "cell_type": "code",
   "execution_count": 185,
   "id": "91ac15f3",
   "metadata": {},
   "outputs": [],
   "source": [
    "from sklearn.metrics.pairwise import cosine_similarity\n",
    "similarity = cosine_similarity(vectors)"
   ]
  },
  {
   "cell_type": "code",
   "execution_count": null,
   "id": "404a1f15",
   "metadata": {},
   "outputs": [],
   "source": [
    "def recommend(anime):\n",
    "    anime_index = anime_1[anime_1['title']== anime].index[0]\n",
    "    distances = np.around(similarity[anime_index],2)\n",
    "    anime_list = sorted(list(enumerate(distances)),reverse=True,key=lambda x:x[1])[1:8]\n",
    "\n",
    "    for i in anime_list:\n",
    "        print(anime_1.iloc[i[0]].title)\n",
    "        print(anime_1.iloc[i[0]].links)\n",
    "        print(i[0])"
   ]
  },
  {
   "cell_type": "code",
   "execution_count": 203,
   "id": "bfa64fd5",
   "metadata": {},
   "outputs": [
    {
     "name": "stdout",
     "output_type": "stream",
     "text": [
      "Shingeki no Kyojin\n",
      "https://myanimelist.net/anime/16498/Shingeki_no_Kyojin\n",
      "110\n",
      "Shingeki no Kyojin Season 2\n",
      "https://myanimelist.net/anime/25777/Shingeki_no_Kyojin_Season_2\n",
      "123\n",
      "Shingeki no Kyojin Season 3\n",
      "https://myanimelist.net/anime/35760/Shingeki_no_Kyojin_Season_3\n",
      "78\n",
      "Shingeki no Kyojin: The Final Season Part 2\n",
      "https://myanimelist.net/anime/48583/Shingeki_no_Kyojin__The_Final_Season_Part_2\n",
      "42\n",
      "Shingeki no Kyojin Season 2 Movie: Kakusei no Houkou\n",
      "https://myanimelist.net/anime/36702/Shingeki_no_Kyojin_Season_2_Movie__Kakusei_no_Houkou\n",
      "720\n",
      "Shingeki no Kyojin: The Final Season - Kanketsu-hen\n",
      "https://myanimelist.net/anime/51535/Shingeki_no_Kyojin__The_Final_Season_-_Kanketsu-hen\n",
      "26\n",
      "Tokyo Ghoul\n",
      "https://myanimelist.net/anime/22319/Tokyo_Ghoul\n",
      "935\n",
      "Shingeki! Kyojin Chuugakkou\n",
      "https://myanimelist.net/anime/31374/Shingeki_Kyojin_Chuugakkou\n",
      "2606\n"
     ]
    }
   ],
   "source": [
    "recommend('Shingeki no Kyojin')"
   ]
  },
  {
   "cell_type": "code",
   "execution_count": 190,
   "id": "791c8dca",
   "metadata": {},
   "outputs": [
    {
     "data": {
      "text/plain": [
       "[(720, np.float64(0.46277514967945194)),\n",
       " (123, np.float64(0.39129428821566115)),\n",
       " (36, np.float64(0.32404377887774766)),\n",
       " (42, np.float64(0.3213720099233944)),\n",
       " (110, np.float64(0.31051721396879134))]"
      ]
     },
     "execution_count": 190,
     "metadata": {},
     "output_type": "execute_result"
    }
   ],
   "source": [
    "sorted(list(enumerate(similarity[anime_1[anime_1['title']== 'Shingeki no Kyojin Season 3 Part 2'].index[0]])),reverse=True,key=lambda x:x[1])[1:6]"
   ]
  },
  {
   "cell_type": "code",
   "execution_count": 191,
   "id": "1564ee97",
   "metadata": {},
   "outputs": [
    {
     "data": {
      "text/plain": [
       "image    https://cdn.myanimelist.net/images/anime/1710/...\n",
       "title    Shingeki no Kyojin Season 2 Movie: Kakusei no ...\n",
       "tags     eren yeager and other of the 104th train corp ...\n",
       "links    https://myanimelist.net/anime/36702/Shingeki_n...\n",
       "Name: 720, dtype: object"
      ]
     },
     "execution_count": 191,
     "metadata": {},
     "output_type": "execute_result"
    }
   ],
   "source": [
    "anime_1.iloc[720]"
   ]
  },
  {
   "cell_type": "code",
   "execution_count": null,
   "id": "438daaf5",
   "metadata": {},
   "outputs": [],
   "source": []
  }
 ],
 "metadata": {
  "kernelspec": {
   "display_name": "Python 3",
   "language": "python",
   "name": "python3"
  },
  "language_info": {
   "codemirror_mode": {
    "name": "ipython",
    "version": 3
   },
   "file_extension": ".py",
   "mimetype": "text/x-python",
   "name": "python",
   "nbconvert_exporter": "python",
   "pygments_lexer": "ipython3",
   "version": "3.13.2"
  }
 },
 "nbformat": 4,
 "nbformat_minor": 5
}
